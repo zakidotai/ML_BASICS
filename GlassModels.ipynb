{
 "cells": [
  {
   "cell_type": "code",
   "execution_count": 2,
   "id": "66efb4a2",
   "metadata": {},
   "outputs": [],
   "source": [
    "import pandas as pd\n",
    "import numpy as np\n",
    "import matplotlib.pyplot as plt\n",
    "import sklearn"
   ]
  },
  {
   "cell_type": "code",
   "execution_count": 108,
   "id": "191f664f",
   "metadata": {},
   "outputs": [],
   "source": [
    "df= pd.read_excel('Data.xlsx')\n",
    "X=df.iloc[:,:-1]\n",
    "Y=df.iloc[:,-1]"
   ]
  },
  {
   "cell_type": "markdown",
   "id": "b03b9ea1",
   "metadata": {},
   "source": [
    "**Splitting Data into Training Set Testing Set** "
   ]
  },
  {
   "cell_type": "code",
   "execution_count": 112,
   "id": "8d3573d1",
   "metadata": {},
   "outputs": [],
   "source": [
    "def splitter(X,Y,testsize=0.2, validationsize=0.25,randomstate=99):\n",
    "    X_train, X_test, Y_train, Y_test= train_test_split(X, Y, test_size=testsize, random_state=randomstate)\n",
    "    X_train, X_val, Y_train, Y_val= train_test_split(X_train,Y_train, test_size= validationsize, random_state= randomstate)\n",
    "    \n",
    "    scaler= StandardScaler().fit(X_train)\n",
    "    x_train= scaler.transform(X_train)\n",
    "    x_test= scaler.transform(X_test)\n",
    "    x_val= scaler.transform (X_val)\n",
    "    y_train, y_val, y_test= Y_train,Y_val, Y_test   ## for the purpose of keeping uniform letter cases of X and Y\n",
    "    \n",
    "    return x_train, x_test, y_train, y_test\n",
    "    "
   ]
  },
  {
   "cell_type": "code",
   "execution_count": 113,
   "id": "ef960c11",
   "metadata": {},
   "outputs": [],
   "source": [
    "from sklearn.model_selection import train_test_split\n",
    "from sklearn.preprocessing import StandardScaler\n",
    "from sklearn.metrics import r2_score, mean_squared_error"
   ]
  },
  {
   "cell_type": "code",
   "execution_count": 114,
   "id": "1ed0eeb3",
   "metadata": {},
   "outputs": [
    {
     "data": {
      "text/plain": [
       "(60, 5)"
      ]
     },
     "execution_count": 114,
     "metadata": {},
     "output_type": "execute_result"
    }
   ],
   "source": [
    "x_train, x_test, y_train, y_test=splitter(X,Y)\n",
    "x_train.shape\n",
    "x_test.shape"
   ]
  },
  {
   "cell_type": "markdown",
   "id": "61321d35",
   "metadata": {},
   "source": [
    "RANDOM FOREST REGRESSOR"
   ]
  },
  {
   "cell_type": "code",
   "execution_count": 288,
   "id": "fc6db61f",
   "metadata": {},
   "outputs": [],
   "source": [
    "from sklearn.ensemble import RandomForestRegressor\n",
    "model= RandomForestRegressor(n_estimators=100, random_state=0)"
   ]
  },
  {
   "cell_type": "code",
   "execution_count": 289,
   "id": "3cb77bef",
   "metadata": {},
   "outputs": [
    {
     "data": {
      "text/plain": [
       "RandomForestRegressor(random_state=0)"
      ]
     },
     "execution_count": 289,
     "metadata": {},
     "output_type": "execute_result"
    }
   ],
   "source": [
    "model.fit(x_train, y_train)"
   ]
  },
  {
   "cell_type": "code",
   "execution_count": 290,
   "id": "101fe6a9",
   "metadata": {},
   "outputs": [],
   "source": [
    "def get_score( y_test, y_pred, base=' ' ):\n",
    "    r2=r2_score(y_test, y_pred)\n",
    "    mse=mean_squared_error(y_test, y_pred)\n",
    "    return print(f'{base} has R2:= {r2} ,  mse:= {mse}')"
   ]
  },
  {
   "cell_type": "code",
   "execution_count": 291,
   "id": "e013bacc",
   "metadata": {},
   "outputs": [],
   "source": [
    "y_pred_test=model.predict(x_test)\n",
    "y_pred_train=model.predict(x_train)"
   ]
  },
  {
   "cell_type": "code",
   "execution_count": 293,
   "id": "7e29c844",
   "metadata": {},
   "outputs": [
    {
     "name": "stdout",
     "output_type": "stream",
     "text": [
      "Training set has R2:= 0.99510706875321 ,  mse:= 0.00738858648269608\n",
      "Testing Set has R2:= 0.9839786788434465 ,  mse:= 0.026094430243801273\n"
     ]
    }
   ],
   "source": [
    "get_score(y_train, y_pred_train, \"Training set\")\n",
    "get_score(y_test, y_pred_test, \"Testing Set\")\n"
   ]
  },
  {
   "cell_type": "code",
   "execution_count": null,
   "id": "1d520af8",
   "metadata": {},
   "outputs": [],
   "source": []
  },
  {
   "cell_type": "code",
   "execution_count": null,
   "id": "d5111db7",
   "metadata": {},
   "outputs": [],
   "source": []
  },
  {
   "cell_type": "markdown",
   "id": "9dd0b275",
   "metadata": {},
   "source": [
    "RIDGE REGRESSION"
   ]
  },
  {
   "cell_type": "code",
   "execution_count": 146,
   "id": "ca65c1e4",
   "metadata": {},
   "outputs": [],
   "source": [
    "from sklearn.linear_model import Ridge\n",
    "model= Ridge(alpha=0.01)\n",
    "\n",
    "x_train, x_test, y_train, y_test= splitter(X,Y,randomstate=456)\n"
   ]
  },
  {
   "cell_type": "code",
   "execution_count": 147,
   "id": "a65e3b9a",
   "metadata": {},
   "outputs": [
    {
     "data": {
      "text/plain": [
       "Ridge(alpha=0.01)"
      ]
     },
     "execution_count": 147,
     "metadata": {},
     "output_type": "execute_result"
    }
   ],
   "source": [
    "model.fit(x_train,y_train)"
   ]
  },
  {
   "cell_type": "code",
   "execution_count": 148,
   "id": "7f53287a",
   "metadata": {},
   "outputs": [],
   "source": [
    "y_pred_train= model.predict(x_train)\n",
    "y_pred_test= model.predict(x_test)"
   ]
  },
  {
   "cell_type": "code",
   "execution_count": 149,
   "id": "91528eb8",
   "metadata": {},
   "outputs": [
    {
     "name": "stdout",
     "output_type": "stream",
     "text": [
      "Training Set has R2:= 0.19476208702256437 ,  mse:= 1.325175129920717\n",
      "Testing Set has R2:= 0.04144660795664179 ,  mse:= 1.251926427312585\n"
     ]
    }
   ],
   "source": [
    "get_score(y_train, y_pred_train, \"Training Set\")\n",
    "get_score(y_test, y_pred_test, 'Testing Set')"
   ]
  },
  {
   "cell_type": "markdown",
   "id": "159d8b7e",
   "metadata": {},
   "source": [
    "ELASTIC NET"
   ]
  },
  {
   "cell_type": "code",
   "execution_count": 150,
   "id": "706cb2f3",
   "metadata": {},
   "outputs": [],
   "source": [
    "from sklearn.linear_model import ElasticNet\n",
    "model= ElasticNet(alpha=0.01)"
   ]
  },
  {
   "cell_type": "code",
   "execution_count": 151,
   "id": "7773e028",
   "metadata": {},
   "outputs": [
    {
     "data": {
      "text/plain": [
       "ElasticNet(alpha=0.01)"
      ]
     },
     "execution_count": 151,
     "metadata": {},
     "output_type": "execute_result"
    }
   ],
   "source": [
    "x_train, x_test, y_train, y_test= splitter(X,Y,randomstate=234)\n",
    "model.fit(x_train,y_train)"
   ]
  },
  {
   "cell_type": "code",
   "execution_count": 152,
   "id": "24adaa5c",
   "metadata": {},
   "outputs": [],
   "source": [
    "y_pred_train= model.predict(x_train)\n",
    "y_pred_test= model.predict(x_test)"
   ]
  },
  {
   "cell_type": "code",
   "execution_count": 153,
   "id": "2bbb5286",
   "metadata": {},
   "outputs": [
    {
     "name": "stdout",
     "output_type": "stream",
     "text": [
      "Training Set has R2:= 0.15725139277718037 ,  mse:= 1.2652740514955503\n",
      "Testing Set has R2:= 0.06921993324677689 ,  mse:= 1.2511984577014252\n"
     ]
    }
   ],
   "source": [
    "get_score(y_train, y_pred_train, \"Training Set\")\n",
    "get_score(y_test, y_pred_test, 'Testing Set')"
   ]
  },
  {
   "cell_type": "markdown",
   "id": "56d50982",
   "metadata": {},
   "source": [
    "LASSO REGRESSION"
   ]
  },
  {
   "cell_type": "code",
   "execution_count": 128,
   "id": "bf83c7aa",
   "metadata": {},
   "outputs": [],
   "source": [
    "from sklearn.linear_model import Lasso\n",
    "model = Lasso(alpha=0.01)"
   ]
  },
  {
   "cell_type": "code",
   "execution_count": 140,
   "id": "478017dd",
   "metadata": {},
   "outputs": [
    {
     "data": {
      "text/plain": [
       "LinearRegression()"
      ]
     },
     "execution_count": 140,
     "metadata": {},
     "output_type": "execute_result"
    }
   ],
   "source": [
    "x_train, x_test, y_train, y_test= splitter(X,Y, randomstate=5678)\n",
    "model.fit(x_train,y_train)"
   ]
  },
  {
   "cell_type": "code",
   "execution_count": 141,
   "id": "dfdf516f",
   "metadata": {},
   "outputs": [],
   "source": [
    "y_pred_train= model.predict(x_train)\n",
    "y_pred_test= model.predict(x_test)"
   ]
  },
  {
   "cell_type": "code",
   "execution_count": 142,
   "id": "4d5eb2d5",
   "metadata": {},
   "outputs": [
    {
     "name": "stdout",
     "output_type": "stream",
     "text": [
      "Training Set has R2:= 0.17595374037069156 ,  mse:= 1.1974061354800734\n",
      "Testing Set has R2:= 0.09845905478775263 ,  mse:= 1.4811063516891432\n"
     ]
    }
   ],
   "source": [
    "get_score(y_train, y_pred_train, \"Training Set\")\n",
    "get_score(y_test, y_pred_test, 'Testing Set')"
   ]
  },
  {
   "cell_type": "markdown",
   "id": "5ea5b96c",
   "metadata": {},
   "source": [
    "LINEAR REGRESSION\n"
   ]
  },
  {
   "cell_type": "code",
   "execution_count": 177,
   "id": "af806812",
   "metadata": {},
   "outputs": [],
   "source": [
    "from sklearn.linear_model import LinearRegression\n",
    "model= LinearRegression()"
   ]
  },
  {
   "cell_type": "code",
   "execution_count": 178,
   "id": "71341084",
   "metadata": {},
   "outputs": [
    {
     "data": {
      "text/plain": [
       "LinearRegression()"
      ]
     },
     "execution_count": 178,
     "metadata": {},
     "output_type": "execute_result"
    }
   ],
   "source": [
    "x_train, x_test, y_train, y_test= splitter(X,Y,randomstate=999)  #randomstate=99\n",
    "model.fit(x_train,y_train)"
   ]
  },
  {
   "cell_type": "code",
   "execution_count": 179,
   "id": "5dd3647f",
   "metadata": {},
   "outputs": [],
   "source": [
    "y_pred_train= model.predict(x_train)\n",
    "y_pred_test= model.predict(x_test)"
   ]
  },
  {
   "cell_type": "code",
   "execution_count": 180,
   "id": "4bf67c34",
   "metadata": {},
   "outputs": [
    {
     "name": "stdout",
     "output_type": "stream",
     "text": [
      "Training Set has R2:= 0.13152185077345224 ,  mse:= 1.3114482076775378\n",
      "Testing Set has R2:= 0.06650414182592634 ,  mse:= 1.5204140979370253\n"
     ]
    }
   ],
   "source": [
    "get_score(y_train, y_pred_train, \"Training Set\")\n",
    "get_score(y_test, y_pred_test, 'Testing Set')"
   ]
  },
  {
   "cell_type": "markdown",
   "id": "2ff3f9a5",
   "metadata": {},
   "source": [
    "SVM ANALYSIS\n",
    "\n",
    "\n"
   ]
  },
  {
   "cell_type": "code",
   "execution_count": 298,
   "id": "0e7d3ee7",
   "metadata": {},
   "outputs": [],
   "source": [
    "from sklearn.svm import SVR\n",
    "model=SVR(kernel='rbf')"
   ]
  },
  {
   "cell_type": "code",
   "execution_count": 299,
   "id": "c4f9f404",
   "metadata": {},
   "outputs": [
    {
     "data": {
      "text/plain": [
       "SVR()"
      ]
     },
     "execution_count": 299,
     "metadata": {},
     "output_type": "execute_result"
    }
   ],
   "source": [
    "x_train, x_test, y_train, y_test= splitter(X,Y,randomstate=214)  #randomstate=99\n",
    "model.fit(x_train,y_train)"
   ]
  },
  {
   "cell_type": "code",
   "execution_count": 300,
   "id": "d48ebb2e",
   "metadata": {},
   "outputs": [],
   "source": [
    "y_pred_train= model.predict(x_train)\n",
    "y_pred_test= model.predict(x_test)"
   ]
  },
  {
   "cell_type": "code",
   "execution_count": 301,
   "id": "70090112",
   "metadata": {},
   "outputs": [
    {
     "name": "stdout",
     "output_type": "stream",
     "text": [
      "Training Set has R2:= 0.9424250992998043 ,  mse:= 0.0933323878410745\n",
      "Testing Set has R2:= 0.9105555555776638 ,  mse:= 0.09329518272112897\n"
     ]
    }
   ],
   "source": [
    "get_score(y_train, y_pred_train, \"Training Set\")\n",
    "get_score(y_test, y_pred_test, 'Testing Set')"
   ]
  },
  {
   "cell_type": "markdown",
   "id": "ec064b8d",
   "metadata": {},
   "source": [
    "ANN REGRESSION"
   ]
  },
  {
   "cell_type": "code",
   "execution_count": 276,
   "id": "aaa4f884",
   "metadata": {},
   "outputs": [],
   "source": [
    "from sklearn.neural_network import MLPRegressor\n",
    "model= MLPRegressor(hidden_layer_sizes=(10,), max_iter=5000)"
   ]
  },
  {
   "cell_type": "code",
   "execution_count": 277,
   "id": "b94e3560",
   "metadata": {},
   "outputs": [
    {
     "data": {
      "text/plain": [
       "MLPRegressor(hidden_layer_sizes=(10,), max_iter=5000)"
      ]
     },
     "execution_count": 277,
     "metadata": {},
     "output_type": "execute_result"
    }
   ],
   "source": [
    "x_train, x_test, y_train, y_test= splitter(X,Y,randomstate=999)  #randomstate=999\n",
    "model.fit(x_train,y_train)"
   ]
  },
  {
   "cell_type": "code",
   "execution_count": 278,
   "id": "23e1eee1",
   "metadata": {},
   "outputs": [],
   "source": [
    "y_pred_train= model.predict(x_train)\n",
    "y_pred_test= model.predict(x_test)"
   ]
  },
  {
   "cell_type": "code",
   "execution_count": 279,
   "id": "6cad5989",
   "metadata": {},
   "outputs": [
    {
     "name": "stdout",
     "output_type": "stream",
     "text": [
      "Training Set has R2:= 0.7559339820794674 ,  mse:= 0.36855267117766205\n",
      "Testing Set has R2:= 0.7028658250207003 ,  mse:= 0.48395178688963275\n"
     ]
    }
   ],
   "source": [
    "get_score(y_train, y_pred_train, \"Training Set\")\n",
    "get_score(y_test, y_pred_test, 'Testing Set')"
   ]
  },
  {
   "cell_type": "code",
   "execution_count": null,
   "id": "790fa738",
   "metadata": {},
   "outputs": [],
   "source": []
  }
 ],
 "metadata": {
  "kernelspec": {
   "display_name": "Python 3 (ipykernel)",
   "language": "python",
   "name": "python3"
  },
  "language_info": {
   "codemirror_mode": {
    "name": "ipython",
    "version": 3
   },
   "file_extension": ".py",
   "mimetype": "text/x-python",
   "name": "python",
   "nbconvert_exporter": "python",
   "pygments_lexer": "ipython3",
   "version": "3.9.6"
  }
 },
 "nbformat": 4,
 "nbformat_minor": 5
}
